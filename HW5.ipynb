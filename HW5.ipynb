{
 "cells": [
  {
   "cell_type": "markdown",
   "metadata": {},
   "source": [
    "## ISYE 6740 - Assignment 5 Random Forest and Boosting\n",
    "\n",
    "#### As we explore exciting new developments in AI, I want to provide some guidance around using chatbots like ChatGPT for our class assignments. \n",
    "\n",
    "#### The assignments are intended to develop your own skills and understanding. I encourage you to use ChatGPT liberally as a learning tool - discussing prompts and solutions with it can provide valuable insight into the problems. While ChatGPT can assist, make sure you are deeply engaged in working through the problems yourself. Take time to carefully review any suggestions from ChatGPT before submitting, and feel free to email me any prompts you find helpful. \n",
    "\n",
    "#### While directly copying ChatGPT solutions into assignments is not prohibited, I advise using discretion and care when relying on its outputs. The goal is to leverage this technology to enhance your learning, but not replace the thinking required, as I believe you do not want to regret being unable to answer machine learning questions well in a job interview.\n",
    "\n",
    "### Please leave the names of your teammates here if applicable."
   ],
   "id": "88c7b794f08d8f60"
  },
  {
   "cell_type": "code",
   "execution_count": null,
   "metadata": {
    "collapsed": true
   },
   "outputs": [],
   "source": [
    "### Insert Name Here\n",
    "Wenxin Jiang"
   ],
   "id": "6b948cd6cadffeaa"
  },
  {
   "cell_type": "markdown",
   "metadata": {},
   "source": [
    "#### Run the following block to hide all the output warnings:"
   ],
   "id": "800b44977c1d364b"
  },
  {
   "cell_type": "code",
   "metadata": {
    "collapsed": true,
    "ExecuteTime": {
     "end_time": "2024-11-22T04:27:38.661892Z",
     "start_time": "2024-11-22T04:27:38.656628Z"
    }
   },
   "source": [
    "import warnings\n",
    "warnings.filterwarnings('ignore')"
   ],
   "id": "3629790e924c699e",
   "outputs": [],
   "execution_count": 1
  },
  {
   "cell_type": "markdown",
   "metadata": {},
   "source": [
    "### Q1. AdaBoost with low noise data\n",
    "\n",
    "\n",
    "* For Question 1, we have a training \"dataset mnist_train.csv\" and a testing set \"mnist_test.csv\". The datasets are selected from the MNIST data, and only contain two classes -- digits 3 and 8, respectively.\n",
    "\n",
    "* Please refer to the following package for AdaBoost:\\\n",
    "https://scikit-learn.org/stable/modules/generated/sklearn.ensemble.AdaBoostClassifier.html\n",
    "\n",
    "#### a) Please train 8 AdaBoost classifiers based on the provided training dataset. The numbers of decision stumps for the ensemble are 25,50,100,200,400,800,1600,3200, respectively. You only need to make necessary change some input arguments."
   ],
   "id": "1eb8e0e5c0a632e1"
  },
  {
   "cell_type": "code",
   "execution_count": 6,
   "metadata": {
    "collapsed": true
   },
   "outputs": [],
   "source": [
    "#Insert you code here"
   ],
   "id": "4210c1869bc1768a"
  },
  {
   "cell_type": "markdown",
   "metadata": {},
   "source": [
    "#### b) Plot the training error vs the the numbers of decision stumps."
   ],
   "id": "c016a9e97363beb7"
  },
  {
   "cell_type": "code",
   "execution_count": 1,
   "metadata": {
    "collapsed": true
   },
   "outputs": [],
   "source": [
    "#Insert you code here"
   ],
   "id": "f6e2c4baf05ab6f7"
  },
  {
   "cell_type": "markdown",
   "metadata": {},
   "source": [
    "#### c) Plot the testing error vs the the numbers of decision stumps."
   ],
   "id": "43b62f6c4ad268f0"
  },
  {
   "cell_type": "code",
   "execution_count": 2,
   "metadata": {
    "collapsed": true
   },
   "outputs": [],
   "source": [
    "#Insert you code here"
   ],
   "id": "5af345fef68d4191"
  },
  {
   "cell_type": "markdown",
   "metadata": {},
   "source": [
    "#### d) Explain what you have observed from b) and c). Is there an overiftting? Does the overfitting affect the generalization to the testing set?"
   ],
   "id": "5615b26d500d94f"
  },
  {
   "cell_type": "markdown",
   "metadata": {},
   "source": [
    "Insert your answer here?"
   ],
   "id": "100c0e9ac7b9f503"
  },
  {
   "cell_type": "markdown",
   "metadata": {},
   "source": [
    "### Q2. AdaBoost with high noise data\n",
    "\n",
    "\n",
    "* For Question 2, we have a training dataset \"noisy_mnist_train.csv\" and a testing set \"noisy_mnist_test.csv\". The datasets are selected from the MNIST data, and only contain two classes -- digits 3 and 8, respectively. Different from Question 1, the labels in the datasets have been contaminated -- We randomly select 25% of the training data point and flip their labels. Therefore the classification task in Q2 is more challenging than that in Q1.\n",
    "\n",
    "#### a) Please train 8 AdaBoost classifiers based on the provided training dataset. The numbers of decision stumps for the ensemble are 25,50,100,200,400,800,1600,3200, respectively."
   ],
   "id": "1eb8d4799f1e12b5"
  },
  {
   "cell_type": "code",
   "execution_count": 50,
   "metadata": {
    "collapsed": true
   },
   "outputs": [],
   "source": [
    "#Insert you code here"
   ],
   "id": "72a3287515f7b945"
  },
  {
   "cell_type": "markdown",
   "metadata": {},
   "source": [
    "#### b) Plot the training error vs the the numbers of decision stumps."
   ],
   "id": "518c13391ad91ae4"
  },
  {
   "cell_type": "code",
   "execution_count": 3,
   "metadata": {
    "collapsed": true
   },
   "outputs": [],
   "source": [
    "#Insert you code here"
   ],
   "id": "55529746ceea6349"
  },
  {
   "cell_type": "markdown",
   "metadata": {},
   "source": [
    "#### c) Plot the testing error vs the the numbers of decision stumps."
   ],
   "id": "f71e02f7bff534e2"
  },
  {
   "cell_type": "code",
   "execution_count": 4,
   "metadata": {
    "collapsed": true
   },
   "outputs": [],
   "source": [
    "#Insert you code here"
   ],
   "id": "301b602140faa680"
  },
  {
   "cell_type": "markdown",
   "metadata": {},
   "source": [
    "#### d) Explain what you have observed from b) and c). Is there an overiftting? Does the overfitting affect the generalization to the testing set?"
   ],
   "id": "c1998b29b3678b11"
  },
  {
   "cell_type": "markdown",
   "metadata": {},
   "source": [
    "Insert your answer here"
   ],
   "id": "ce9d754c6b9e4df0"
  },
  {
   "cell_type": "markdown",
   "metadata": {},
   "source": [
    "#### e) Compared with the conclusion from Q1 d), what can you say about the generalization ability of AdaBoost? "
   ],
   "id": "d6478246d3c6f9e5"
  },
  {
   "cell_type": "markdown",
   "metadata": {},
   "source": [
    "Insert your answer here"
   ],
   "id": "b48d58f5e07e3df7"
  },
  {
   "cell_type": "markdown",
   "metadata": {},
   "source": [
    "### Q3. Random Forest with low noise data\n",
    "\n",
    "\n",
    "* For Question 3, we will use the training dataset \"mnist_train.csv\" and the testing set \"mnist_test.csv\" in Question 1.\n",
    "\n",
    "* Please refer to the following package for Random Forest:\\\n",
    "https://scikit-learn.org/stable/modules/generated/sklearn.ensemble.RandomForestClassifier.html\n",
    "\n",
    "#### a) Please train 8 Random Forest classifiers based on the provided training dataset. The numbers of decision trees for the ensemble are 25,50,100,200,400,800,1600,3200, respectively."
   ],
   "id": "53968db41c23b391"
  },
  {
   "cell_type": "code",
   "metadata": {
    "collapsed": true,
    "jupyter": {
     "is_executing": true
    },
    "ExecuteTime": {
     "end_time": "2024-11-22T04:46:31.925154Z",
     "start_time": "2024-11-22T04:27:45.750715Z"
    }
   },
   "source": [
    "import pandas as pd\n",
    "from sklearn.ensemble import RandomForestClassifier\n",
    "from sklearn.metrics import accuracy_score\n",
    "\n",
    "# Load datasets\n",
    "train_data = pd.read_csv('mnist_train.csv')\n",
    "test_data = pd.read_csv('mnist_test.csv')\n",
    "\n",
    "# Split data into features and labels\n",
    "X_train = train_data.iloc[:, 1:]  # Assuming the first column is the label\n",
    "y_train = train_data.iloc[:, 0]\n",
    "\n",
    "X_test = test_data.iloc[:, 1:]  # Assuming the first column is the label\n",
    "y_test = test_data.iloc[:, 0]\n",
    "\n",
    "# Number of trees for the ensembles\n",
    "tree_counts = [25, 50, 100, 200, 400, 800, 1600, 3200]\n",
    "\n",
    "# Dictionary to store results\n",
    "results = {}\n",
    "\n",
    "# Train Random Forest classifiers with specified numbers of trees\n",
    "for n_trees in tree_counts:\n",
    "    rf_model = RandomForestClassifier(n_estimators=n_trees, random_state=42, n_jobs=-1)\n",
    "    rf_model.fit(X_train, y_train)\n",
    "    \n",
    "    # Evaluate on test data\n",
    "    y_pred = rf_model.predict(X_test)\n",
    "    accuracy = accuracy_score(y_test, y_pred)\n",
    "    \n",
    "    # Store accuracy\n",
    "    results[n_trees] = accuracy\n",
    "\n",
    "# Print results\n",
    "for n_trees, accuracy in results.items():\n",
    "    print(f\"Number of Trees: {n_trees}, Accuracy: {accuracy}\")"
   ],
   "id": "2015257980803e8e",
   "outputs": [],
   "execution_count": null
  },
  {
   "cell_type": "markdown",
   "metadata": {},
   "source": [
    "#### b) Plot the training error vs the the numbers of decision trees."
   ],
   "id": "cf8127571e3835f4"
  },
  {
   "cell_type": "code",
   "execution_count": 5,
   "metadata": {
    "collapsed": true
   },
   "outputs": [],
   "source": [
    "#Insert you code here"
   ],
   "id": "de198075258524bd"
  },
  {
   "cell_type": "markdown",
   "metadata": {},
   "source": [
    "#### c) Plot the testing error vs the the numbers of decision trees."
   ],
   "id": "f60c5d502f4af45d"
  },
  {
   "cell_type": "code",
   "execution_count": 6,
   "metadata": {
    "collapsed": true
   },
   "outputs": [],
   "source": [
    "#Insert you code here"
   ],
   "id": "f01d2489f096c4be"
  },
  {
   "cell_type": "markdown",
   "metadata": {},
   "source": [
    "#### d) Explain what you have observed from b) and c). Is there an overiftting? Does the overfitting affect the generalization to the testing set?"
   ],
   "id": "e525ef5c9770f49c"
  },
  {
   "cell_type": "markdown",
   "metadata": {},
   "source": [
    "Insert your answer here"
   ],
   "id": "38dc793f0f9e285"
  },
  {
   "cell_type": "markdown",
   "metadata": {},
   "source": [
    "### Q4. Random Forest with high noise data\n",
    "\n",
    "\n",
    "* For Question 4, we will use the training dataset \"noisy_mnist_train.csv\" and the testing set \"noisy_mnist_test.csv\" in Question 2.\n",
    "\n",
    "#### a) Please train 8 Random Forest classifiers based on the provided training dataset. The numbers of decision trees for the ensemble are 25,50,100,200,400,800,1600,3200, respectively."
   ],
   "id": "2345043c07e534d9"
  },
  {
   "cell_type": "code",
   "execution_count": 20,
   "metadata": {
    "collapsed": true
   },
   "outputs": [],
   "source": [
    "#Insert you code here"
   ],
   "id": "15dc351d6a81f2"
  },
  {
   "cell_type": "markdown",
   "metadata": {},
   "source": [
    "#### b) Plot the training error vs the the numbers of decision trees."
   ],
   "id": "8fec3ebb71e21271"
  },
  {
   "cell_type": "code",
   "execution_count": 7,
   "metadata": {
    "collapsed": true
   },
   "outputs": [],
   "source": [
    "#Insert you code here"
   ],
   "id": "ea3a3aed4395ee9d"
  },
  {
   "cell_type": "markdown",
   "metadata": {},
   "source": [
    "#### c) Plot the testing error vs the the numbers of decision trees."
   ],
   "id": "239148173aa0dcd7"
  },
  {
   "cell_type": "code",
   "execution_count": 8,
   "metadata": {
    "collapsed": true
   },
   "outputs": [],
   "source": [
    "#Insert you code here"
   ],
   "id": "b49886a6712e111c"
  },
  {
   "cell_type": "markdown",
   "metadata": {},
   "source": [
    "#### d) Explain what you have observed from b) and c). Is there an overiftting? Does the overfitting affect the generalization to the testing set?"
   ],
   "id": "5240d70a32073702"
  },
  {
   "cell_type": "markdown",
   "metadata": {},
   "source": [
    "Insert your answer here"
   ],
   "id": "42c0e889a8332541"
  },
  {
   "cell_type": "markdown",
   "metadata": {},
   "source": [
    "#### e) Compared with the conclusion from Q3 d), what can you say about the generalization ability of Random Forest? "
   ],
   "id": "9ef03588846f7eae"
  },
  {
   "cell_type": "markdown",
   "metadata": {},
   "source": [
    "Insert your answer here"
   ],
   "id": "4633eb5b55f2608"
  },
  {
   "cell_type": "markdown",
   "metadata": {
    "jp-MarkdownHeadingCollapsed": true,
    "tags": []
   },
   "source": [
    "## Q5. XGBoost/Random Forest\n",
    "\n",
    "* For Question 5, we have a training dataset \"SPAM_train.csv\" and a testing set \"SPAM_test.csv\".\n",
    "\n",
    "* Please refer to the following package for XGBoost:\\\n",
    "https://xgboost.readthedocs.io/en/stable/python/python_api.html\n",
    "\n",
    "* Please refer to the following package for SVM:\\\n",
    "https://scikit-learn.org/stable/modules/generated/sklearn.svm.SVC.html\n",
    "\n"
   ],
   "id": "768ecb4a8b5cfa7f"
  },
  {
   "cell_type": "markdown",
   "metadata": {},
   "source": [
    "#### (a) Fit the providing SPAM dataset using a XGboost classifier, with default parameters. Report the training time."
   ],
   "id": "ad150807a0bd5f9b"
  },
  {
   "cell_type": "code",
   "execution_count": 9,
   "metadata": {
    "collapsed": true
   },
   "outputs": [],
   "source": [
    "#Insert you code here"
   ],
   "id": "2b94c8874791a9c4"
  },
  {
   "cell_type": "markdown",
   "metadata": {},
   "source": [
    "#### (b) Fit the providing SPAM dataset using a RBF Kernel SVM and fix C=1000. Report the training time."
   ],
   "id": "b1ffb240f79584c9"
  },
  {
   "cell_type": "code",
   "execution_count": 10,
   "metadata": {
    "collapsed": true
   },
   "outputs": [],
   "source": [
    "#Insert you code here"
   ],
   "id": "64f89ff655c9e6b9"
  },
  {
   "cell_type": "markdown",
   "metadata": {},
   "source": [
    "#### (c) Report the accuracy of the above two models on the testing set. Explain the results."
   ],
   "id": "34b17b744429bff5"
  },
  {
   "cell_type": "code",
   "execution_count": 11,
   "metadata": {
    "collapsed": true
   },
   "outputs": [],
   "source": [
    "#Insert you code here"
   ],
   "id": "d13311086d2635f4"
  },
  {
   "cell_type": "markdown",
   "metadata": {},
   "source": [
    "Insert your answer here"
   ],
   "id": "ce23032d1e86d127"
  },
  {
   "cell_type": "markdown",
   "metadata": {},
   "source": [
    "#### (d) Sort the features of the Spam Dataset in the order of the feature importences given by your XGBoost model."
   ],
   "id": "467a49f9253f0570"
  },
  {
   "cell_type": "code",
   "execution_count": 12,
   "metadata": {
    "collapsed": true
   },
   "outputs": [],
   "source": [
    "#Insert you code here"
   ],
   "id": "ea845c1b834d3a48"
  },
  {
   "cell_type": "markdown",
   "metadata": {},
   "source": [
    "#### (e) Fit the providing SPAM dataset using Random Forest with n_estimators=100."
   ],
   "id": "6216cd6a4dafe56d"
  },
  {
   "cell_type": "code",
   "execution_count": 13,
   "metadata": {
    "collapsed": true
   },
   "outputs": [],
   "source": [
    "#Insert you code here"
   ],
   "id": "61e1a44c6c325836"
  },
  {
   "cell_type": "markdown",
   "metadata": {},
   "source": [
    "#### (f) Report the testing accuracy of the Random Forest. How does it compare to the testing accuracies of XGBoost and SVM?"
   ],
   "id": "a471467322c92599"
  },
  {
   "cell_type": "code",
   "execution_count": 14,
   "metadata": {
    "collapsed": true
   },
   "outputs": [],
   "source": [
    "#Insert you code here"
   ],
   "id": "d7c5ed3ec31a104a"
  },
  {
   "cell_type": "markdown",
   "metadata": {},
   "source": [
    "#### (g) Sort the features of the Spam Dataset in the order of the feature importences given by your Random Forest. How does it compare to the result in (d)?"
   ],
   "id": "a78bb657564217a3"
  },
  {
   "cell_type": "code",
   "execution_count": 15,
   "metadata": {
    "collapsed": true
   },
   "outputs": [],
   "source": [
    "#Insert you code here"
   ],
   "id": "3dde1cb4ea759a2a"
  },
  {
   "cell_type": "markdown",
   "metadata": {},
   "source": [
    "#### (h) Build XGBoost model on its top 20 selected features. Compare the testing accuracy with that of XGBoost trained on all the features."
   ],
   "id": "756bdfecedf58bd1"
  },
  {
   "cell_type": "code",
   "execution_count": 16,
   "metadata": {
    "collapsed": true
   },
   "outputs": [],
   "source": [
    "#Insert you code here"
   ],
   "id": "4cbe77f76b5f102e"
  },
  {
   "cell_type": "markdown",
   "metadata": {},
   "source": [
    "#### (i) Build Random Forest model (n_estimators=100) on its top 20 selected features. Compare the testing accuracy with that of Random Forest trained on all the features."
   ],
   "id": "4c84b098323621d0"
  },
  {
   "cell_type": "code",
   "execution_count": 17,
   "metadata": {
    "collapsed": true
   },
   "outputs": [],
   "source": [
    "#Insert you code here"
   ],
   "id": "5fb206e59a69dc09"
  }
 ],
 "metadata": {
  "kernelspec": {
   "display_name": "Python 3 [3.7]",
   "language": "python",
   "name": "python3"
  },
  "language_info": {
   "codemirror_mode": {
    "name": "ipython",
    "version": 3
   },
   "file_extension": ".py",
   "mimetype": "text/x-python",
   "name": "python",
   "nbconvert_exporter": "python",
   "pygments_lexer": "ipython3",
   "version": "3.7.5"
  },
  "toc": {
   "base_numbering": 1,
   "nav_menu": {},
   "number_sections": true,
   "sideBar": true,
   "skip_h1_title": false,
   "title_cell": "Table of Contents",
   "title_sidebar": "Contents",
   "toc_cell": false,
   "toc_position": {},
   "toc_section_display": true,
   "toc_window_display": false
  }
 },
 "nbformat": 4,
 "nbformat_minor": 5
}
