{
 "cells": [
  {
   "cell_type": "markdown",
   "metadata": {
    "pycharm": {
     "name": "#%% md\n"
    }
   },
   "source": [
    "## ISYE 6740 - Assignment 1 - Regression\n",
    "\n",
    "#### As we explore exciting new developments in AI, I want to provide some guidance around using chatbots like ChatGPT for our class assignments. \n",
    "\n",
    "#### The assignments are intended to develop your own skills and understanding. I encourage you to use ChatGPT liberally as a learning tool - discussing prompts and solutions with it can provide valuable insight into the problems. While ChatGPT can assist, make sure you are deeply engaged in working through the problems yourself. Take time to carefully review any suggestions from ChatGPT before submitting, and feel free to email me any prompts you find helpful. \n",
    "\n",
    "#### While directly copying ChatGPT solutions into assignments is not prohibited, I advise using discretion and care when relying on its outputs. The goal is to leverage this technology to enhance your learning, but not replace the thinking required, as I believe you do not want to regret being unable to answer machine learning questions well in a job interview.\n",
    "\n",
    "### Please leave the name of your teammate here if applicable."
   ]
  },
  {
   "cell_type": "code",
   "metadata": {
    "collapsed": true,
    "ExecuteTime": {
     "end_time": "2024-09-16T18:45:36.537601Z",
     "start_time": "2024-09-16T18:45:36.532641Z"
    }
   },
   "source": [
    "### Wenxin Jiang\n",
    "### Yihan Liao\n",
    "### Yu Zheng"
   ],
   "outputs": [],
   "execution_count": 2
  },
  {
   "cell_type": "markdown",
   "metadata": {},
   "source": [
    "### 1. OLS Linear Regression\n",
    "\n",
    "* In this question, we use a dataset of concrete to study OLS linear regression. For both training and testing data, the first 8 columns are features of concrete and the last column is \"Concrete compressive strenth\". We will train a linear regression model to predict the target variable of \"Concrete compressive strenth\".\n",
    "* Please refer to the following package for OLS linear regression:\n",
    "https://scikit-learn.org/stable/modules/generated/sklearn.linear_model.LinearRegression.html\n",
    "* For this regression problem, we use Mean Square Error (MSE) as the metric to evaluate the performance of trained models. Given $n$ samples, let $\\{Y_i\\}_{i=1}^n$ be the observed values of the variable being predicted and $\\{\\hat{Y}_i\\}_{i=1}^n$ be the predicted values. Then the MSE of the predictor is computed as \n",
    "<center>$\\text{MSE} = \\frac{1}{n} \\sum_{i=1}^n (Y_i-\\hat{Y}_i)^2$.\n",
    "\n",
    "#### a) Traing a linear regression model using the training set and report the training MSE."
   ]
  },
  {
   "cell_type": "code",
   "metadata": {
    "collapsed": true,
    "ExecuteTime": {
     "end_time": "2024-09-16T18:57:34.505298Z",
     "start_time": "2024-09-16T18:57:34.499441Z"
    }
   },
   "source": [
    "import pandas as pd\n",
    "import numpy as np"
   ],
   "outputs": [],
   "execution_count": 17
  },
  {
   "cell_type": "code",
   "metadata": {
    "pycharm": {
     "name": "#%%\n"
    },
    "ExecuteTime": {
     "end_time": "2024-09-16T18:56:41.131950Z",
     "start_time": "2024-09-16T18:56:41.082521Z"
    }
   },
   "source": "### Insert Code Here",
   "outputs": [],
   "execution_count": 13
  },
  {
   "cell_type": "markdown",
   "metadata": {
    "pycharm": {
     "name": "#%% md\n"
    }
   },
   "source": [
    "#### b) Evalaute the learnt model using the testing set. Please report the testing MSE."
   ]
  },
  {
   "cell_type": "code",
   "execution_count": null,
   "metadata": {
    "collapsed": true
   },
   "outputs": [],
   "source": [
    "### Insert Code Here"
   ]
  },
  {
   "cell_type": "markdown",
   "metadata": {
    "pycharm": {
     "name": "#%% md\n"
    }
   },
   "source": [
    "#### c) Which of the MSEs on the training and testing sets is larger? Why?"
   ]
  },
  {
   "cell_type": "code",
   "execution_count": null,
   "metadata": {
    "collapsed": true,
    "pycharm": {
     "name": "#%%\n"
    }
   },
   "outputs": [],
   "source": [
    "### Your Answer Here"
   ]
  },
  {
   "cell_type": "markdown",
   "metadata": {},
   "source": [
    "#### d) If we have infintely many training data points, can we make MSE (on the testing set) of our model as small as possible? Why?"
   ]
  },
  {
   "cell_type": "code",
   "execution_count": null,
   "metadata": {
    "collapsed": true
   },
   "outputs": [],
   "source": [
    "### Your Answer Here"
   ]
  },
  {
   "cell_type": "markdown",
   "metadata": {
    "pycharm": {
     "name": "#%% md\n"
    }
   },
   "source": [
    "#### e) Use gradient descent to train a linear regression model. Recall that the objective function is \n",
    "<center>$\\hat{w}=\\mathop{\\arg\\min}_{w}\\frac{1}{n} \\sum_{i=1}^n (Y_i-X_i^\\top w)^2$</center>\n",
    "    \n",
    "Here, set max_iteration = 1e5, stepsize = 3e-7, and stopping criterion = 1e-5. Please compute the gradient of the parameters and then follow the algorithm outline to finish your codes. \n",
    "\n",
    "#### Please plot the optimization error $\\text{Opt. Err.} = \\|\\hat{w}-w^{(k)}\\|_2^2$ vs iteration, where $\\hat{w}$ is the coefficient vector (including intercept) learnt in a) and $w^{(k)}$ is the coefficient vector at the $k$-th iteration of gradient descent."
   ]
  },
  {
   "cell_type": "code",
   "execution_count": 214,
   "metadata": {
    "collapsed": true,
    "pycharm": {
     "name": "#%%\n"
    }
   },
   "outputs": [],
   "source": [
    "### Insert Code Here\n",
    "\n",
    "#initialize parameter vetor w.\n",
    "#loop t=1:max_iter:\n",
    "#    update w using gradient (Hint: compute X'X and X'Y).\n",
    "#    Compute the testing MSE of parameter w.\n",
    "#    Stop the iteration if the 2-norm of gradient is smaller than 1e-5."
   ]
  },
  {
   "cell_type": "markdown",
   "metadata": {},
   "source": [
    "#### f) Please plot the testing MSE vs iteration."
   ]
  },
  {
   "cell_type": "code",
   "execution_count": null,
   "metadata": {
    "collapsed": true
   },
   "outputs": [],
   "source": [
    "### Insert Code Here"
   ]
  },
  {
   "cell_type": "markdown",
   "metadata": {},
   "source": [
    "#### g) Given what you have observed in e) and f), what can you say about the number of iterations we need from a prediction perspective? Why?"
   ]
  },
  {
   "cell_type": "code",
   "execution_count": null,
   "metadata": {
    "collapsed": true
   },
   "outputs": [],
   "source": [
    "### Insert Code Here"
   ]
  },
  {
   "cell_type": "markdown",
   "metadata": {
    "pycharm": {
     "name": "#%% md\n"
    }
   },
   "source": [
    "### 2. Robust Regression\n",
    "\n",
    "* Please find the Concrete dataset for Q2.\n",
    "* This dataset is very similiar that of Q1, but the training set is contaminated.\n",
    "* Please refer to the following package for quantile regression:\n",
    "https://scikit-learn.org/stable/auto_examples/linear_model/plot_quantile_regression.html\n",
    "* Note that the quantile regression is identical to LAD regression when using 50% quantile. \n",
    "\n",
    "#### a) Train a linear regression model on the training dataset using OLS, and report the testing MSE."
   ]
  },
  {
   "cell_type": "code",
   "execution_count": 2,
   "metadata": {
    "collapsed": true
   },
   "outputs": [],
   "source": [
    "### Insert Code Here"
   ]
  },
  {
   "cell_type": "markdown",
   "metadata": {
    "pycharm": {
     "name": "#%% md\n"
    }
   },
   "source": [
    "#### b) Train a linear regression model on the training dataset using LAD (set regularization constant alpha =1), and report the testing MSE."
   ]
  },
  {
   "cell_type": "code",
   "execution_count": 3,
   "metadata": {
    "collapsed": true
   },
   "outputs": [],
   "source": [
    "### Insert Code Here"
   ]
  },
  {
   "cell_type": "markdown",
   "metadata": {
    "pycharm": {
     "name": "#%% md\n"
    }
   },
   "source": [
    "#### c) Does LAD outperform OLS? Why?"
   ]
  },
  {
   "cell_type": "code",
   "execution_count": 3,
   "metadata": {
    "collapsed": true,
    "pycharm": {
     "name": "#%%\n"
    }
   },
   "outputs": [],
   "source": [
    "### Your Answer Here"
   ]
  },
  {
   "cell_type": "markdown",
   "metadata": {
    "pycharm": {
     "name": "#%% md\n"
    }
   },
   "source": [
    "### 3. Linear Classification\n",
    "\n",
    "* In this question, we use a dataset about spam emails to study linear classifiers. For both training and testing data, the first 57 columns are different features of emails, such as the frequency of occurence of a particular word, and the last column shows whether an email is spam (1 for spam). We will train linear classifiers to predict if a given email is spam.\n",
    "* Please refer to the following package for different linear classifiers.\\\n",
    "\n",
    "Linear Discriminant Analysis Classifier:\n",
    "https://scikit-learn.org/stable/modules/generated/sklearn.discriminant_analysis.LinearDiscriminantAnalysis.html\n",
    "\n",
    "Gaussian Naive Bayes Classifier:\n",
    "https://scikit-learn.org/stable/modules/naive_bayes.html\n",
    "\n",
    "Logistic Regression Classifier:\n",
    "https://scikit-learn.org/stable/modules/generated/sklearn.linear_model.LogisticRegression.html\n",
    "\n",
    "* For this classification problem, we use classification error as the metric to evaluate the performance of trained models. Given $n$ samples, let $\\{Y_i\\}_{i=1}^n$ be the observed labels of the variable being predicted and $\\{\\hat{Y}_i\\}_{i=1}^n$ be the predicted labels. Then the classification error of the predictor is computed as\n",
    "<center>$\\text{Classification Error} = \\frac{1}{n} \\sum_{i=1}^n \\mathbb{1}(Y_i \\neq \\hat{Y}_i).$\n",
    "\n",
    "\n",
    "#### a) Train a Linear Discriminant Analysis Classifier using the training set and report the classification error on the testing set."
   ]
  },
  {
   "cell_type": "code",
   "metadata": {
    "collapsed": true,
    "ExecuteTime": {
     "end_time": "2024-09-19T00:55:06.460422Z",
     "start_time": "2024-09-19T00:55:06.376226Z"
    }
   },
   "source": [
    "### Insert Code Here\n",
    "import pandas as pd\n",
    "from sklearn.metrics import accuracy_score\n",
    "\n",
    "Q3_train = pd.read_csv('Q3_train.csv')\n",
    "Q3_X_train = Q3_train.iloc[:, :-1]\n",
    "Q3_Y_train = Q3_train.iloc[:, -1]\n",
    "Q3_test = pd.read_csv('Q3_test.csv')\n",
    "Q3_X_test = Q3_test.iloc[:, :-1]\n",
    "Q3_Y_test = Q3_test.iloc[:, -1]\n",
    "\n",
    "from sklearn.discriminant_analysis import LinearDiscriminantAnalysis\n",
    "lda = LinearDiscriminantAnalysis()\n",
    "lda.fit(Q3_X_train, Q3_Y_train)\n",
    "\n",
    "lda_y_pred = lda.predict(Q3_X_test)\n",
    "\n",
    "lda_error = 1 - accuracy_score(Q3_Y_test, lda_y_pred)\n",
    "\n",
    "lda_error\n",
    "# lda_error = 0.09940249864204231"
   ],
   "outputs": [
    {
     "data": {
      "text/plain": [
       "0.09940249864204231"
      ]
     },
     "execution_count": 9,
     "metadata": {},
     "output_type": "execute_result"
    }
   ],
   "execution_count": 9
  },
  {
   "cell_type": "markdown",
   "metadata": {
    "pycharm": {
     "name": "#%% md\n"
    }
   },
   "source": [
    "#### b) Repeat the above using Gaussian Naive Bayes Classifier."
   ]
  },
  {
   "cell_type": "code",
   "metadata": {
    "collapsed": true,
    "ExecuteTime": {
     "end_time": "2024-09-19T00:55:09.261558Z",
     "start_time": "2024-09-19T00:55:09.245578Z"
    }
   },
   "source": [
    "### Insert Code Here\n",
    "from sklearn.naive_bayes import GaussianNB\n",
    "\n",
    "gnb = GaussianNB()\n",
    "gnb.fit(Q3_X_train, Q3_Y_train)\n",
    "\n",
    "gnb_y_pred = gnb.predict(Q3_X_test)\n",
    "\n",
    "gnb_error = 1 - accuracy_score(Q3_Y_test, gnb_y_pred)\n",
    "\n",
    "gnb_error\n",
    "#gnb_error = 0.19174361759913094"
   ],
   "outputs": [
    {
     "data": {
      "text/plain": [
       "0.19174361759913094"
      ]
     },
     "execution_count": 10,
     "metadata": {},
     "output_type": "execute_result"
    }
   ],
   "execution_count": 10
  },
  {
   "cell_type": "markdown",
   "metadata": {
    "pycharm": {
     "name": "#%% md\n"
    }
   },
   "source": [
    "#### c) Repeat the above using Logistic Regression Classifier."
   ]
  },
  {
   "cell_type": "code",
   "metadata": {
    "collapsed": true,
    "ExecuteTime": {
     "end_time": "2024-09-19T00:55:14.150198Z",
     "start_time": "2024-09-19T00:55:14.064726Z"
    }
   },
   "source": [
    "### Insert Code Here\n",
    "from sklearn.linear_model import LogisticRegression\n",
    "\n",
    "logreg = LogisticRegression()\n",
    "logreg.fit(Q3_X_train, Q3_Y_train)\n",
    "\n",
    "logreg_y_pred = logreg.predict(Q3_X_test)\n",
    "\n",
    "logreg_error = 1 - accuracy_score(Q3_Y_test, logreg_y_pred)\n",
    "\n",
    "logreg_error\n",
    "#logreg_error = 0.07984790874524716"
   ],
   "outputs": [
    {
     "name": "stderr",
     "output_type": "stream",
     "text": [
      "/Library/Frameworks/Python.framework/Versions/3.12/lib/python3.12/site-packages/sklearn/linear_model/_logistic.py:469: ConvergenceWarning: lbfgs failed to converge (status=1):\n",
      "STOP: TOTAL NO. of ITERATIONS REACHED LIMIT.\n",
      "\n",
      "Increase the number of iterations (max_iter) or scale the data as shown in:\n",
      "    https://scikit-learn.org/stable/modules/preprocessing.html\n",
      "Please also refer to the documentation for alternative solver options:\n",
      "    https://scikit-learn.org/stable/modules/linear_model.html#logistic-regression\n",
      "  n_iter_i = _check_optimize_result(\n"
     ]
    },
    {
     "data": {
      "text/plain": [
       "0.07984790874524716"
      ]
     },
     "execution_count": 11,
     "metadata": {},
     "output_type": "execute_result"
    }
   ],
   "execution_count": 11
  },
  {
   "cell_type": "markdown",
   "metadata": {
    "pycharm": {
     "name": "#%% md\n"
    }
   },
   "source": [
    "#### d) Please compare the classification errors of Linear Discriminant Analysis and Guassian Naive Bayes Classifier, and provide an explanation for the results."
   ]
  },
  {
   "metadata": {},
   "cell_type": "code",
   "outputs": [],
   "execution_count": null,
   "source": [
    "### Your Answer Here\n",
    "# Guassian Naive Bayes has higher errors. Since Naive Bayes assumes all features are independent of each other, if there is a strong covariance between features, this assumption may cause a higher error rate compared to LDA (which considers relationships between features). "
   ]
  },
  {
   "cell_type": "markdown",
   "metadata": {
    "pycharm": {
     "name": "#%% md\n"
    }
   },
   "source": [
    "#### e) Please compare the classification errors of Linear Discriminant Analysis and Logistic Regression, and provide an explanation for the results."
   ]
  },
  {
   "cell_type": "code",
   "execution_count": 6,
   "metadata": {
    "collapsed": true
   },
   "outputs": [],
   "source": [
    "### Your Answer Here\n",
    "# Linear Discriminant Analysis has higher errors. It's probably because LDA assumes that each class follow normal distribution while Logistic regression does not, which gives flexibility. If there are outliers, feature dependencies, or class imbalance, Logistic regression might outperform LDA."
   ]
  },
  {
   "cell_type": "markdown",
   "metadata": {
    "pycharm": {
     "name": "#%% md\n"
    }
   },
   "source": [
    "### 4. K Nearest Neighbor Classifier\n",
    "\n",
    "* In this question, we use a dataset about diabetes to study K Nearest Neighbor Classifier. For both training and testing data, the first 8 columns are different diagnostic measurements of patients, such as Blppd Pressure and BMI, and the last column shows whether a patient has diabetes (1 for diabetes). We will train a K Nearest Neighbor Classifier to predict if a person has diabetes.\n",
    "* Please refer to the following package for K Nearest Neighbor Classifier:\n",
    "https://scikit-learn.org/stable/modules/generated/sklearn.neighbors.KNeighborsClassifier.html\n",
    "\n",
    "#### a) Train a K Nearest Neighbor Classifier with Euclidean Distance (Try K=3,6,9,12,15) to fit provided the diabetes training set , and predict the responses of the testing set. Plot the classification error vs K."
   ]
  },
  {
   "cell_type": "code",
   "metadata": {
    "collapsed": true,
    "ExecuteTime": {
     "end_time": "2024-09-19T03:41:12.144516Z",
     "start_time": "2024-09-19T03:41:11.910502Z"
    }
   },
   "source": [
    "### Insert Code Here\n",
    "Q4_train = pd.read_csv('Q4_train.csv')\n",
    "Q4_test = pd.read_csv('Q4_test.csv')\n",
    "\n",
    "Q4_X_train = Q4_train.iloc[:, :-1]\n",
    "Q4_Y_train = Q4_train.iloc[:, -1]\n",
    "Q4_X_test = Q4_test.iloc[:, :-1]\n",
    "Q4_Y_test = Q4_test.iloc[:, -1]\n",
    "\n",
    "from sklearn.neighbors import KNeighborsClassifier\n",
    "\n",
    "k_values = [3, 6, 9, 12, 15]\n",
    "knn_errors = []\n",
    "\n",
    "for k in k_values:\n",
    "    knn = KNeighborsClassifier(n_neighbors = k, metric = 'euclidean')\n",
    "    knn.fit(Q4_X_train, Q4_Y_train)\n",
    "    knn_y_pred = knn.predict(Q4_X_test)\n",
    "    knn_error = 1 - accuracy_score(Q4_Y_test, knn_y_pred)\n",
    "    knn_errors.append(knn_error)\n",
    "\n",
    "print(knn_errors)\n",
    "\n",
    "import matplotlib.pyplot as plt\n",
    "plt.plot(k_values, knn_errors, marker='o')\n",
    "plt.xlabel('K (Number of Neighbors)')\n",
    "plt.ylabel('Classification Error')\n",
    "plt.title('KNN Classification Error vs. K')\n",
    "plt.grid(True)\n",
    "\n",
    "plt.show()"
   ],
   "outputs": [
    {
     "name": "stdout",
     "output_type": "stream",
     "text": [
      "[0.3110236220472441, 0.26771653543307083, 0.2440944881889764, 0.25196850393700787, 0.2637795275590551]\n"
     ]
    },
    {
     "data": {
      "text/plain": [
       "<Figure size 640x480 with 1 Axes>"
      ],
      "image/png": "[encoded data removed]"
     },
     "metadata": {},
     "output_type": "display_data"
    }
   ],
   "execution_count": 30
  },
  {
   "cell_type": "markdown",
   "metadata": {
    "pycharm": {
     "name": "#%% md\n"
    }
   },
   "source": [
    "#### b) Repeat the above using a K Nearest Neighbor Classifier with Manhattan Distance ($L_1$-distance)."
   ]
  },
  {
   "cell_type": "code",
   "metadata": {
    "collapsed": true,
    "pycharm": {
     "name": "#%%\n"
    },
    "ExecuteTime": {
     "end_time": "2024-09-19T03:45:05.095468Z",
     "start_time": "2024-09-19T03:45:04.739072Z"
    }
   },
   "source": [
    "### Insert Code Here\n",
    "knn_errors_manhattan = []\n",
    "for k in k_values:\n",
    "    knn = KNeighborsClassifier(n_neighbors = k, metric = 'manhattan')\n",
    "    knn.fit(Q4_X_train, Q4_Y_train)\n",
    "    knn_y_pred = knn.predict(Q4_X_test)\n",
    "    knn_error = 1 - accuracy_score(Q4_Y_test, knn_y_pred)\n",
    "    knn_errors_manhattan.append(knn_error)\n",
    "\n",
    "print(knn_errors_manhattan)\n",
    "\n",
    "plt.plot(k_values, knn_errors_manhattan, marker='o')\n",
    "plt.xlabel('K (Number of Neighbors)')\n",
    "plt.ylabel('Classification Error')\n",
    "plt.title('KNN Classification Error vs. K (Manhattan Distance)')\n",
    "plt.grid(True)\n",
    "plt.show()"
   ],
   "outputs": [
    {
     "name": "stdout",
     "output_type": "stream",
     "text": [
      "[0.3385826771653543, 0.25984251968503935, 0.2637795275590551, 0.2440944881889764, 0.2559055118110236]\n"
     ]
    },
    {
     "data": {
      "text/plain": [
       "<Figure size 640x480 with 1 Axes>"
      ],
      "image/png": "[encoded data removed]"
     },
     "metadata": {},
     "output_type": "display_data"
    }
   ],
   "execution_count": 31
  },
  {
   "cell_type": "markdown",
   "metadata": {},
   "source": [
    "#### c) Repeat the above using a Logistic Regression Classifier, and compare its testing error with those of the K Nearest Neighbor Classifiers. Do you observe any difference? Why?"
   ]
  },
  {
   "cell_type": "code",
   "metadata": {
    "collapsed": true,
    "ExecuteTime": {
     "end_time": "2024-09-19T04:08:15.165671Z",
     "start_time": "2024-09-19T04:08:15.088478Z"
    }
   },
   "source": [
    "### Insert Code Here\n",
    "logreg.fit(Q4_X_train, Q4_Y_train)\n",
    "logreg_y_pred = logreg.predict(Q4_X_test)\n",
    "logreg_error = 1 - accuracy_score(Q4_Y_test, logreg_y_pred)\n",
    "logreg_error\n",
    "# 0.22047244094488194\n",
    "\n",
    "# Errors under logreg is lower than any errors under KNN we tested. \n",
    "# KNN is more sensitive to outliers as it directly used distance between points, while LogReg creates a more stable model by fitting a hyperplane."
   ],
   "outputs": [
    {
     "data": {
      "text/plain": [
       "0.22047244094488194"
      ]
     },
     "execution_count": 33,
     "metadata": {},
     "output_type": "execute_result"
    }
   ],
   "execution_count": 33
  }
 ],
 "metadata": {
  "kernelspec": {
   "display_name": "Python 3 [3.7]",
   "language": "python",
   "name": "python3"
  },
  "language_info": {
   "codemirror_mode": {
    "name": "ipython",
    "version": 3
   },
   "file_extension": ".py",
   "mimetype": "text/x-python",
   "name": "python",
   "nbconvert_exporter": "python",
   "pygments_lexer": "ipython3",
   "version": "3.7.5"
  }
 },
 "nbformat": 4,
 "nbformat_minor": 4
}
